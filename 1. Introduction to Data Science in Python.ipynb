{
 "cells": [
  {
   "cell_type": "markdown",
   "metadata": {},
   "source": [
    "# **Python Data Science Workshop**\n",
    "![LISA logo](https://raw.githubusercontent.com/wshand/Python-Data-Science-Workshop/master/assets/LISA_logo_medium.jpg)\n",
    "\n",
    "This notebook helps introduce some of the most basic tools that are commonly used for doing data science and statistics in Python.\n",
    "\n",
    "## Introduction\n",
    "In this workshop, we're going to look at the following Python libraries for analyzing data:\n",
    "\n",
    "* Jupyter Notebook\n",
    "* pandas\n",
    "* matplotlib\n",
    "* "
   ]
  },
  {
   "cell_type": "markdown",
   "metadata": {},
   "source": [
    "## Jupyter Notebook\n",
    "[Jupyter Notebook](https://jupyter.org/) is an interactive tool for running code and visualizing data. To run code, click a code cell (like the one below) followed by one of two things:\n",
    "* Press `Shift + Enter` on your keyboard\n",
    "* On the toolbar at the top of this notebook, press the <button class=\"btn btn-default\" title=\"Run\"><i class=\"fa-step-forward fa\"></i><span class=\"toolbar-btn-label\">Run</span></button> button."
   ]
  },
  {
   "cell_type": "code",
   "execution_count": null,
   "metadata": {},
   "outputs": [],
   "source": [
    "print(\"Hello, world!\")"
   ]
  },
  {
   "cell_type": "markdown",
   "metadata": {},
   "source": [
    "In addition to running code, you can render [Markdown](https://jupyter-notebook.readthedocs.io/en/stable/examples/Notebook/Working%20With%20Markdown%20Cells.html) in your notebooks (just like the text you're reading right now). For instance, try double-clicking the text below. Put the following text underneath: `### This is a heading!`. Then run the cell either using `Shift + Enter` or the \"Run\" button, as you did above."
   ]
  },
  {
   "cell_type": "markdown",
   "metadata": {},
   "source": [
    "__*Double-click this text!*__"
   ]
  },
  {
   "cell_type": "markdown",
   "metadata": {},
   "source": [
    "One thing that makes Jupyter great is that it's highly customizable. For instance, as a basic example, we can create [widgets](https://ipywidgets.readthedocs.io/en/latest/index.html) that allow you to create a nice user interface for interacting with the data. As an example, try running the code cell below. This code creates two plots, and displays them in adjacent tabs."
   ]
  },
  {
   "cell_type": "code",
   "execution_count": null,
   "metadata": {},
   "outputs": [],
   "source": [
    "%matplotlib inline\n",
    "\n",
    "import numpy as np\n",
    "import matplotlib.pyplot as plt\n",
    "import ipywidgets as widgets\n",
    "from scipy.stats import norm, linregress\n",
    "\n",
    "out = [widgets.Output() for i in range(2)]\n",
    "tabs = widgets.Tab(children=[out[0], out[1]])\n",
    "tabs.set_title(0, 'Linear regression')\n",
    "tabs.set_title(1, 'Normal distribution')\n",
    "\n",
    "with out[0]:\n",
    "    # Fit line to some random data\n",
    "    x = np.random.uniform(size=30)\n",
    "    y = x + np.random.normal(scale=0.1, size=30)\n",
    "    slope, intercept, _, _, _ = linregress(x,y)\n",
    "    u = np.linspace(0, 1)\n",
    "    \n",
    "    # Plot\n",
    "    fig1, axes1 = plt.subplots()\n",
    "    axes1.scatter(x, y)\n",
    "    axes1.plot(u, slope * u + intercept, 'k')\n",
    "    plt.show(fig1)\n",
    "\n",
    "with out[1]:\n",
    "    # Plot the probability distribution function (pdf) of the\n",
    "    # standard normal distribution.\n",
    "    x = np.linspace(-3.5, 3.5, num=100)\n",
    "    p = norm.pdf(x)\n",
    "    \n",
    "    # Plot\n",
    "    fig2, axes2 = plt.subplots()\n",
    "    axes2.plot(x, p)\n",
    "    plt.show(fig2)\n",
    "\n",
    "display(tabs)"
   ]
  },
  {
   "cell_type": "markdown",
   "metadata": {},
   "source": [
    "You can create much richer and more complex interfaces that include buttons, sliders, progress bars, and more with Jupyter's `ipywidgets` library.\n",
    "\n",
    "Jupyter Notebooks are also simple to share with others. *Jupyter Hub intro* [Jupyter Hub](https://jupyterhub.readthedocs.io/en/stable/)"
   ]
  },
  {
   "cell_type": "code",
   "execution_count": null,
   "metadata": {},
   "outputs": [],
   "source": []
  },
  {
   "cell_type": "code",
   "execution_count": null,
   "metadata": {},
   "outputs": [],
   "source": []
  },
  {
   "cell_type": "markdown",
   "metadata": {},
   "source": [
    "## pandas\n",
    "[pandas](https://pandas.pydata.org/) is a Python library that provides useful data structures and tools for analyzing data.\n",
    "\n",
    "The fundamental type of the pandas library is the `DataFrame`. In the following code, we load the [iris flower dataset](https://en.wikipedia.org/wiki/Iris_flower_data_set) using the [seaborn library](https://seaborn.pydata.org/). By default, this dataset is stored in a pandas `DataFrame`."
   ]
  },
  {
   "cell_type": "code",
   "execution_count": null,
   "metadata": {},
   "outputs": [],
   "source": [
    "import pandas as pd\n",
    "import seaborn as sns\n",
    "\n",
    "iris = sns.load_dataset('iris')\n",
    "\n",
    "# `iris` is stored as a pandas DataFrame\n",
    "print('Type of \"iris\":', type(iris))\n",
    "\n",
    "# Show the first few entries in this DataFrame\n",
    "iris.head()"
   ]
  },
  {
   "cell_type": "markdown",
   "metadata": {},
   "source": [
    "Let's get some information about these data. I want to do the following:\n",
    "\n",
    "1. Find out how many columns there are in the `DataFrame` object, and what kinds of data are in each column\n",
    "2. Calculate the average petal length\n",
    "3. Determine what species of flowers are in the dataset\n",
    "4. Get an overall summary of the dataset"
   ]
  },
  {
   "cell_type": "code",
   "execution_count": null,
   "metadata": {},
   "outputs": [],
   "source": [
    "# 1. Column labels, and types of data in each column\n",
    "iris.dtypes"
   ]
  },
  {
   "cell_type": "code",
   "execution_count": null,
   "metadata": {},
   "outputs": [],
   "source": [
    "# 2. Calculate the average petal length\n",
    "iris['petal_length'].mean()"
   ]
  },
  {
   "cell_type": "code",
   "execution_count": null,
   "metadata": {},
   "outputs": [],
   "source": [
    "# 3. Determine which \n",
    "iris['species'].unique()"
   ]
  },
  {
   "cell_type": "code",
   "execution_count": null,
   "metadata": {},
   "outputs": [],
   "source": [
    "# 4. Summary of the data\n",
    "iris.describe()"
   ]
  },
  {
   "cell_type": "code",
   "execution_count": null,
   "metadata": {},
   "outputs": [],
   "source": [
    "# Create one DataFrame corresponding to each species of flower. Below are\n",
    "# two different ways of filtering the data like this; pick whichever\n",
    "# method you prefer as they are equivalent.\n",
    "\n",
    "# Method 1: \"query\" function\n",
    "setosa     = iris.query('species == \"setosa\"')\n",
    "versicolor = iris.query('species == \"versicolor\"')\n",
    "\n",
    "# Method 2: index into the DataFrame\n",
    "virginica = iris[iris['species'] == 'virginica']\n",
    "\n",
    "# Note: the choice of which method to use for which species was arbitrary.\n",
    "# You could just as easily do something like\n",
    "#\n",
    "#     setosa = iris[iris['species'] == 'setosa']\n",
    "#\n",
    "# or\n",
    "#\n",
    "#     virginica = iris.query('species == \"virginica\"')"
   ]
  },
  {
   "cell_type": "markdown",
   "metadata": {},
   "source": [
    "## matplotlib\n",
    "Python has a *massive* number of libraries that can be used for data visualization; [this article](https://www.anaconda.com/blog/developer-blog/python-data-visualization-2018-why-so-many-libraries/) gives a high-level overview of many of them. For this workshop we'll be using [matplotlib](https://matplotlib.org/), since it is by far Python's most popular library for visualization."
   ]
  },
  {
   "cell_type": "code",
   "execution_count": null,
   "metadata": {},
   "outputs": [],
   "source": [
    "# Create a bar chart with average petal length for each flower\n",
    "import matplotlib.pyplot as plt\n",
    "\n",
    "x_ind = [0, 1, 2]   # 3 positions on the x-axis for 3 bars\n",
    "width = 0.35        # width of the bars\n",
    "\n",
    "# Mean petal lengths and their standard deviations for each species\n",
    "iris_means = []\n",
    "iris_stds  = []\n",
    "for species in (setosa, versicolor, virginica):\n",
    "    iris_means.append(species['petal_length'].mean())\n",
    "    iris_stds.append(species['petal_length'].std())\n",
    "\n",
    "plt.bar(x_ind, iris_means, width, yerr=iris_stds)\n",
    "\n",
    "# Set axis labels and plot title\n",
    "plt.xlabel(\"Species\")\n",
    "plt.ylabel(\"Average petal length\")\n",
    "plt.title(\"Mean petal length for each species of flower\")\n",
    "\n",
    "# Add species name to the x-axis\n",
    "plt.xticks(x_ind, (\"Setosa\", \"Versicolor\", \"Virginica\"))\n",
    "\n",
    "# matplotlib always requires you to run \"show\" in order to display the plots.\n",
    "# In Jupyter Notebook, though, the plots will usually be displayed even if you\n",
    "# don't use \"show\".\n",
    "plt.show()"
   ]
  },
  {
   "cell_type": "markdown",
   "metadata": {},
   "source": [
    "## Additional References\n",
    "\n",
    "* O'Reilly provides a couple of good books that go in-depth about these tools and more:\n",
    "  * [Python Data Science Handbook](http://shop.oreilly.com/product/0636920034919.do)\n",
    "  * [Python for Data Analysis](http://shop.oreilly.com/product/0636920023784.do) -- this book was published in 2012 and may be slightly dated. However, the author provides some Jupyter Notebooks for free in [this repository](https://github.com/wesm/pydata-book) that you may find helpful.\n",
    "* Check out the full documentation for Jupyter on the [Project Jupyter site](https://jupyter.org/documentation)."
   ]
  }
 ],
 "metadata": {
  "kernelspec": {
   "display_name": "Workshop-Kernel",
   "language": "python",
   "name": "workshop-kernel"
  },
  "language_info": {
   "codemirror_mode": {
    "name": "ipython",
    "version": 3
   },
   "file_extension": ".py",
   "mimetype": "text/x-python",
   "name": "python",
   "nbconvert_exporter": "python",
   "pygments_lexer": "ipython3",
   "version": "3.6.7"
  }
 },
 "nbformat": 4,
 "nbformat_minor": 2
}
